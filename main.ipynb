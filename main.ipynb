{
 "cells": [
  {
   "cell_type": "code",
   "execution_count": null,
   "id": "2645480f",
   "metadata": {},
   "outputs": [
    {
     "name": "stderr",
     "output_type": "stream",
     "text": [
      "c:\\Users\\ujg07\\anaconda3\\envs\\Kaggle_book\\Lib\\site-packages\\interpret\\glassbox\\_ebm\\_ebm.py:869: UserWarning: Missing values detected. Our visualizations do not currently display missing values. To retain the glassbox nature of the model you need to either set the missing values to an extreme value like -1000 that will be visible on the graphs, or manually examine the missing value score in ebm.term_scores_[term_index][0]\n",
      "  warn(\n"
     ]
    },
    {
     "name": "stdout",
     "output_type": "stream",
     "text": [
      "==================== accuracy 결과입니다. ====================\n",
      "0.9413793103448276\n",
      "==================== classification_report 결과입니다. ====================\n",
      "              precision    recall  f1-score   support\n",
      "\n",
      "      dealer       0.94      0.97      0.95       320\n",
      "      healer       0.95      0.91      0.93       137\n",
      "      tanker       0.95      0.91      0.93       123\n",
      "\n",
      "    accuracy                           0.94       580\n",
      "   macro avg       0.94      0.93      0.94       580\n",
      "weighted avg       0.94      0.94      0.94       580\n",
      "\n"
     ]
    }
   ],
   "source": [
    "from interpret.glassbox import ExplainableBoostingClassifier\n",
    "from sklearn.metrics import accuracy_score, classification_report\n",
    "\n",
    "ebc = ExplainableBoostingClassifier(interactions=False)\n",
    "ebc.fit(X_train, y_train)\n",
    "y_pred = ebc.predict(X_test)\n",
    "\n",
    "accuracy = accuracy_score(y_test, y_pred)\n",
    "report = classification_report(y_test, y_pred)\n",
    "\n",
    "print(\"=\"*20, \"accuracy 결과입니다.\", \"=\"*20)\n",
    "print(accuracy)\n",
    "\n",
    "print(\"=\"*20, \"classification_report 결과입니다.\", \"=\"*20)\n",
    "print(report)"
   ]
  },
  {
   "cell_type": "code",
   "execution_count": null,
   "id": "9719eb52",
   "metadata": {},
   "outputs": [],
   "source": []
  }
 ],
 "metadata": {
  "kernelspec": {
   "display_name": "Kaggle_book",
   "language": "python",
   "name": "python3"
  },
  "language_info": {
   "codemirror_mode": {
    "name": "ipython",
    "version": 3
   },
   "file_extension": ".py",
   "mimetype": "text/x-python",
   "name": "python",
   "nbconvert_exporter": "python",
   "pygments_lexer": "ipython3",
   "version": "3.12.11"
  }
 },
 "nbformat": 4,
 "nbformat_minor": 5
}
