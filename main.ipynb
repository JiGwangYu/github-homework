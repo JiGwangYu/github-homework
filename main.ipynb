{
 "cells": [
  {
   "cell_type": "code",
   "execution_count": 6,
   "id": "ff029f72",
   "metadata": {},
   "outputs": [
    {
     "name": "stdout",
     "output_type": "stream",
     "text": [
      "==================== features 정보입니다. ====================\n",
      "(2899, 6)\n"
     ]
    },
    {
     "data": {
      "text/html": [
       "<div>\n",
       "<style scoped>\n",
       "    .dataframe tbody tr th:only-of-type {\n",
       "        vertical-align: middle;\n",
       "    }\n",
       "\n",
       "    .dataframe tbody tr th {\n",
       "        vertical-align: top;\n",
       "    }\n",
       "\n",
       "    .dataframe thead th {\n",
       "        text-align: right;\n",
       "    }\n",
       "</style>\n",
       "<table border=\"1\" class=\"dataframe\">\n",
       "  <thead>\n",
       "    <tr style=\"text-align: right;\">\n",
       "      <th></th>\n",
       "      <th>playtime</th>\n",
       "      <th>playcount</th>\n",
       "      <th>level</th>\n",
       "      <th>paycount</th>\n",
       "      <th>payamount</th>\n",
       "      <th>mainjoblevel</th>\n",
       "    </tr>\n",
       "  </thead>\n",
       "  <tbody>\n",
       "    <tr>\n",
       "      <th>0</th>\n",
       "      <td>61</td>\n",
       "      <td>1.0</td>\n",
       "      <td>15</td>\n",
       "      <td>1</td>\n",
       "      <td>60300</td>\n",
       "      <td>60</td>\n",
       "    </tr>\n",
       "    <tr>\n",
       "      <th>1</th>\n",
       "      <td>14</td>\n",
       "      <td>1.0</td>\n",
       "      <td>15</td>\n",
       "      <td>1</td>\n",
       "      <td>100</td>\n",
       "      <td>60</td>\n",
       "    </tr>\n",
       "    <tr>\n",
       "      <th>2</th>\n",
       "      <td>16</td>\n",
       "      <td>1.0</td>\n",
       "      <td>15</td>\n",
       "      <td>1</td>\n",
       "      <td>151</td>\n",
       "      <td>60</td>\n",
       "    </tr>\n",
       "    <tr>\n",
       "      <th>3</th>\n",
       "      <td>1300</td>\n",
       "      <td>3.0</td>\n",
       "      <td>15</td>\n",
       "      <td>1</td>\n",
       "      <td>1000</td>\n",
       "      <td>60</td>\n",
       "    </tr>\n",
       "    <tr>\n",
       "      <th>4</th>\n",
       "      <td>41</td>\n",
       "      <td>3.0</td>\n",
       "      <td>15</td>\n",
       "      <td>1</td>\n",
       "      <td>16000</td>\n",
       "      <td>60</td>\n",
       "    </tr>\n",
       "  </tbody>\n",
       "</table>\n",
       "</div>"
      ],
      "text/plain": [
       "   playtime  playcount  level  paycount  payamount  mainjoblevel\n",
       "0        61        1.0     15         1      60300            60\n",
       "1        14        1.0     15         1        100            60\n",
       "2        16        1.0     15         1        151            60\n",
       "3      1300        3.0     15         1       1000            60\n",
       "4        41        3.0     15         1      16000            60"
      ]
     },
     "metadata": {},
     "output_type": "display_data"
    },
    {
     "name": "stdout",
     "output_type": "stream",
     "text": [
      "==================== target 정보입니다. ====================\n",
      "(2899,)\n"
     ]
    },
    {
     "data": {
      "text/plain": [
       "0    dealer\n",
       "1    dealer\n",
       "2    tanker\n",
       "3    tanker\n",
       "4    tanker\n",
       "Name: mainjob, dtype: object"
      ]
     },
     "metadata": {},
     "output_type": "display_data"
    }
   ],
   "source": [
    "import pandas as pd\n",
    "\n",
    "tmp_df = pd.read_excel('./game.xlsx', sheet_name='Sheet1')\n",
    "\n",
    "features = tmp_df[['playtime', 'playcount', 'level', 'paycount', 'payamount', 'mainjoblevel']]\n",
    "\n",
    "print('='*20, 'features 정보입니다.', '='*20)\n",
    "print(features.shape)\n",
    "display(features.head())\n",
    "\n",
    "target = tmp_df['mainjob']\n",
    "\n",
    "print('='*20, 'target 정보입니다.', '='*20)\n",
    "print(target.shape)\n",
    "display(target.head())"
   ]
  },
  {
   "cell_type": "code",
   "execution_count": 7,
   "id": "e5426d91",
   "metadata": {},
   "outputs": [
    {
     "name": "stdout",
     "output_type": "stream",
     "text": [
      "==================== 분할 이후 train 데이터 크기입니다. ====================\n",
      "(2319, 6)\n",
      "(2319,)\n",
      "\n",
      "==================== 분할 이후 test 데이터 크기입니다. ====================\n",
      "(580, 6)\n",
      "(580,)\n",
      "\n",
      "==================== train 데이터와 test 데이터 비율 계산 결과입니다. ====================\n",
      "0.7999310106933425\n",
      "0.20006898930665748\n"
     ]
    }
   ],
   "source": [
    "from sklearn.model_selection import train_test_split\n",
    "\n",
    "X_train, X_test, y_train, y_test = train_test_split(\n",
    "    features,\n",
    "    target,\n",
    "    test_size=0.2,\n",
    "    random_state=42\n",
    ")\n",
    "\n",
    "print('='*20, '분할 이후 train 데이터 크기입니다.', '='*20)\n",
    "print(X_train.shape)\n",
    "print(y_train.shape)\n",
    "\n",
    "print('\\n' + '='*20, '분할 이후 test 데이터 크기입니다.', '='*20)\n",
    "print(X_test.shape)\n",
    "print(y_test.shape)\n",
    "\n",
    "print('\\n' + '='*20, 'train 데이터와 test 데이터 비율 계산 결과입니다.', '='*20)\n",
    "print(len(X_train) / (len(X_train) + len(X_test)))\n",
    "print(len(X_test) / (len(X_train) + len(X_test)))"
   ]
  },
  {
   "cell_type": "code",
   "execution_count": 8,
   "id": "cbb21763",
   "metadata": {},
   "outputs": [
    {
     "name": "stdout",
     "output_type": "stream",
     "text": [
      "원래 클래스: ['dealer' 'healer' 'tanker']\n",
      "인코딩 결과: [0 0 2 2 2 0 0 1 2 1]\n"
     ]
    }
   ],
   "source": [
    "from sklearn.preprocessing import LabelEncoder\n",
    "\n",
    "le = LabelEncoder()\n",
    "y_encoded = le.fit_transform(target)\n",
    "\n",
    "print(\"원래 클래스:\", le.classes_)\n",
    "print(\"인코딩 결과:\", y_encoded[:10])"
   ]
  },
  {
   "cell_type": "code",
   "execution_count": 10,
   "id": "f01d68ba",
   "metadata": {},
   "outputs": [
    {
     "name": "stdout",
     "output_type": "stream",
     "text": [
      "==================== LabelEncoding 이전의 분포입니다. ====================\n"
     ]
    },
    {
     "data": {
      "image/png": "[encoded data removed]",
      "text/plain": [
       "<Figure size 640x480 with 1 Axes>"
      ]
     },
     "metadata": {},
     "output_type": "display_data"
    },
    {
     "name": "stdout",
     "output_type": "stream",
     "text": [
      "==================== LabelEncoding 이후의 분포입니다. ====================\n"
     ]
    },
    {
     "data": {
      "image/png": "[encoded data removed]",
      "text/plain": [
       "<Figure size 640x480 with 1 Axes>"
      ]
     },
     "metadata": {},
     "output_type": "display_data"
    }
   ],
   "source": [
    "import matplotlib.pyplot as plt\n",
    "\n",
    "print('='*20, 'LabelEncoding 이전의 분포입니다.', '='*20)\n",
    "target.hist()\n",
    "plt.show()\n",
    "\n",
    "le = LabelEncoder()\n",
    "target_encoded = le.fit_transform(target)\n",
    "\n",
    "print('='*20, 'LabelEncoding 이후의 분포입니다.', '='*20)\n",
    "pd.Series(target_encoded).hist()\n",
    "plt.show()"
   ]
  },
  {
   "cell_type": "code",
   "execution_count": null,
   "id": "e613ca88",
   "metadata": {},
   "outputs": [],
   "source": []
  }
 ],
 "metadata": {
  "kernelspec": {
   "display_name": "Kaggle_book",
   "language": "python",
   "name": "python3"
  },
  "language_info": {
   "codemirror_mode": {
    "name": "ipython",
    "version": 3
   },
   "file_extension": ".py",
   "mimetype": "text/x-python",
   "name": "python",
   "nbconvert_exporter": "python",
   "pygments_lexer": "ipython3",
   "version": "3.12.11"
  }
 },
 "nbformat": 4,
 "nbformat_minor": 5
}
